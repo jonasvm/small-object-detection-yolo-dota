{
  "nbformat": 4,
  "nbformat_minor": 0,
  "metadata": {
    "colab": {
      "provenance": []
    },
    "kernelspec": {
      "name": "python3",
      "display_name": "Python 3"
    },
    "language_info": {
      "name": "python"
    }
  },
  "cells": [
    {
      "cell_type": "code",
      "execution_count": null,
      "metadata": {
        "id": "71H-sXl6sMGm"
      },
      "outputs": [],
      "source": [
        "from ultralytics import YOLO\n",
        "\n",
        "def avaliar_modelo(path_modelo, path_dataset):\n",
        "    model = YOLO(path_modelo)\n",
        "    results = model.val(data=path_dataset, imgsz=640, verbose=False)  # avalia no dataset\n",
        "\n",
        "    metrics = results.metrics  # dicionário com métricas principais\n",
        "    print(f\"mAP@0.5: {metrics['map50']:.4f}\")\n",
        "    print(f\"mAP@0.5:0.95: {metrics['map']:.4f}\")\n",
        "    print(f\"Precision: {metrics['precision']:.4f}\")\n",
        "    print(f\"Recall: {metrics['recall']:.4f}\")\n",
        "    print(f\"F1-score: {metrics['f1']:.4f}\")\n",
        "\n",
        "    return metrics\n",
        "\n",
        "# Exemplo de uso:\n",
        "avaliar_modelo(r'C:\\Users\\jonas\\OneDrive\\Área de Trabalho\\backup_yolov5m-50 epocas - imagens 640\\weights\\best.pt',\n",
        "               r'C:\\Users\\jonas\\Documents\\Doutorado\\dota_dataset\\yolo-dataset\\dota.yaml')"
      ]
    }
  ]
}