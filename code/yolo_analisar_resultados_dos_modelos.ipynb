{
  "nbformat": 4,
  "nbformat_minor": 0,
  "metadata": {
    "colab": {
      "provenance": []
    },
    "kernelspec": {
      "name": "python3",
      "display_name": "Python 3"
    },
    "language_info": {
      "name": "python"
    }
  },
  "cells": [
    {
      "cell_type": "code",
      "execution_count": null,
      "metadata": {
        "id": "3RHHxs3RpPCy"
      },
      "outputs": [],
      "source": [
        "import os\n",
        "import pandas as pd\n",
        "from ultralytics import YOLO\n",
        "import numpy as np\n",
        "import time\n",
        "\n",
        "#script genérico, funcionou pra todos menos para o yolov5\n",
        "\n",
        "# Caminhos\n",
        "model_path = r'C:\\Users\\jonas\\OneDrive\\Área de Trabalho\\train_output_yolov11m_100epocas_imgsz1024_adam_sliced_images\\weights\\best.pt'\n",
        "results_csv = r'C:\\Users\\jonas\\OneDrive\\Área de Trabalho\\train_output_yolov11m_100epocas_imgsz1024_adam_sliced_images\\results.csv'\n",
        "\n",
        "# Carregar modelo\n",
        "model = YOLO(model_path)\n",
        "metrics = model.val(data=r'C:\\Users\\jonas\\Documents\\Doutorado\\dota_dataset\\yolo-dataset\\datasets\\yolo-dataset-sliced\\dota.yaml')\n",
        "\n",
        "# Extrair métricas de performance\n",
        "map50     = metrics.box.map50\n",
        "map5095   = metrics.box.map\n",
        "precision = metrics.box.mp\n",
        "recall    = metrics.box.mr\n",
        "\n",
        "# Ler CSV para losses\n",
        "df = pd.read_csv(results_csv)\n",
        "df.columns = df.columns.str.strip()\n",
        "\n",
        "cols_train = [c for c in df.columns if c.startswith('train/') and c.endswith('_loss')]\n",
        "cols_val   = [c for c in df.columns if c.startswith('val/') and c.endswith('_loss')]\n",
        "\n",
        "df['train_loss'] = df[cols_train].sum(axis=1)\n",
        "df['val_loss'] = df[cols_val].sum(axis=1)\n",
        "\n",
        "loss_train_final = df['train_loss'].iloc[-1]\n",
        "loss_val_final = df['val_loss'].iloc[-1]\n",
        "\n",
        "# Tamanho do arquivo do modelo\n",
        "model_size_mb = os.path.getsize(model_path) / 1e6\n",
        "\n",
        "# Calcular latência média em CPU (inferência com imagem aleatória)\n",
        "img = np.random.randint(0, 255, (640, 640, 3), dtype=np.uint8)\n",
        "times = []\n",
        "for _ in range(20):\n",
        "    start = time.time()\n",
        "    _ = model.predict(img, device='cpu')\n",
        "    times.append(time.time() - start)\n",
        "\n",
        "latency_ms = (sum(times) / len(times)) * 1000\n",
        "\n",
        "# Imprimir tabela formatada\n",
        "print(f'{\"Modelo\":<10} {\"mAP @ 0.50\":<12} {\"mAP @ 0.50:0.95\":<15} Precision  Recall   Latência (CPU)  Loss Final (train)  Loss Final (val)  Arquivo')\n",
        "print(f'{\"yolov11\":<10} {map50:<12.3f} {map5095:<15.3f} {precision:<9.3f} {recall:<7.3f} {latency_ms:>10.0f} ms  {loss_train_final:<17.3f} {loss_val_final:<16.3f} {model_size_mb:.1f} MB')\n"
      ]
    }
  ]
}