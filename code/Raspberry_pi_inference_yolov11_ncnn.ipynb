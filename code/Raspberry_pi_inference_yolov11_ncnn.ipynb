{
  "nbformat": 4,
  "nbformat_minor": 0,
  "metadata": {
    "colab": {
      "provenance": []
    },
    "kernelspec": {
      "name": "python3",
      "display_name": "Python 3"
    },
    "language_info": {
      "name": "python"
    }
  },
  "cells": [
    {
      "cell_type": "code",
      "execution_count": null,
      "metadata": {
        "id": "2QtmqT8Ok0em"
      },
      "outputs": [],
      "source": [
        "from ultralytics import YOLO\n",
        "\n",
        "model = YOLO(\"best.pt\")\n",
        "\n",
        "# Exportar para NCNN\n",
        "model.export(format=\"ncnn\")\n",
        "\n",
        "# Carregar o modelo NCNN exportado\n",
        "ncnn_model = YOLO(\"best_ncnn_model\")\n",
        "\n",
        "# Rodar inferência na imagem desejada\n",
        "results = ncnn_model(\"P0024.png\")\n",
        "\n",
        "# Exibir resultados (bounding boxes, classes, etc)\n",
        "results.print()"
      ]
    }
  ]
}