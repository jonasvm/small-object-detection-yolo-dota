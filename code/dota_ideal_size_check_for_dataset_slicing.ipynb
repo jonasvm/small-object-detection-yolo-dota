{
  "cells": [
    {
      "cell_type": "markdown",
      "metadata": {
        "id": "XwRgo_FVKAfi"
      },
      "source": [
        "Downloading the first part of the training images zip"
      ]
    },
    {
      "cell_type": "code",
      "execution_count": null,
      "metadata": {
        "colab": {
          "base_uri": "https://localhost:8080/",
          "height": 338
        },
        "id": "N_Y3tplQabls",
        "outputId": "a7399f15-556b-48a7-ea17-338a01c3e761"
      },
      "outputs": [
        {
          "output_type": "stream",
          "name": "stdout",
          "text": [
            "Requirement already satisfied: gdown in /usr/local/lib/python3.11/dist-packages (5.2.0)\n",
            "Requirement already satisfied: beautifulsoup4 in /usr/local/lib/python3.11/dist-packages (from gdown) (4.13.4)\n",
            "Requirement already satisfied: filelock in /usr/local/lib/python3.11/dist-packages (from gdown) (3.18.0)\n",
            "Requirement already satisfied: requests[socks] in /usr/local/lib/python3.11/dist-packages (from gdown) (2.32.3)\n",
            "Requirement already satisfied: tqdm in /usr/local/lib/python3.11/dist-packages (from gdown) (4.67.1)\n",
            "Requirement already satisfied: soupsieve>1.2 in /usr/local/lib/python3.11/dist-packages (from beautifulsoup4->gdown) (2.7)\n",
            "Requirement already satisfied: typing-extensions>=4.0.0 in /usr/local/lib/python3.11/dist-packages (from beautifulsoup4->gdown) (4.14.0)\n",
            "Requirement already satisfied: charset-normalizer<4,>=2 in /usr/local/lib/python3.11/dist-packages (from requests[socks]->gdown) (3.4.2)\n",
            "Requirement already satisfied: idna<4,>=2.5 in /usr/local/lib/python3.11/dist-packages (from requests[socks]->gdown) (3.10)\n",
            "Requirement already satisfied: urllib3<3,>=1.21.1 in /usr/local/lib/python3.11/dist-packages (from requests[socks]->gdown) (2.4.0)\n",
            "Requirement already satisfied: certifi>=2017.4.17 in /usr/local/lib/python3.11/dist-packages (from requests[socks]->gdown) (2025.6.15)\n",
            "Requirement already satisfied: PySocks!=1.5.7,>=1.5.6 in /usr/local/lib/python3.11/dist-packages (from requests[socks]->gdown) (1.7.1)\n"
          ]
        },
        {
          "output_type": "stream",
          "name": "stderr",
          "text": [
            "Downloading...\n",
            "From (original): https://drive.google.com/uc?id=1BlaGYNNEKGmT6OjZjsJ8HoUYrTTmFcO2\n",
            "From (redirected): https://drive.google.com/uc?id=1BlaGYNNEKGmT6OjZjsJ8HoUYrTTmFcO2&confirm=t&uuid=36f8dc79-d34a-4d72-9e53-a2e6215a5822\n",
            "To: /content/imagens.zip\n",
            "100%|██████████| 2.13G/2.13G [00:32<00:00, 66.0MB/s]\n"
          ]
        },
        {
          "output_type": "execute_result",
          "data": {
            "text/plain": [
              "'imagens.zip'"
            ],
            "application/vnd.google.colaboratory.intrinsic+json": {
              "type": "string"
            }
          },
          "metadata": {},
          "execution_count": 1
        }
      ],
      "source": [
        "# Instala gdown\n",
        "!pip install -U gdown\n",
        "\n",
        "# Baixa o arquivo usando o ID\n",
        "import gdown\n",
        "\n",
        "file_id = \"1BlaGYNNEKGmT6OjZjsJ8HoUYrTTmFcO2\"\n",
        "output = \"imagens.zip\"\n",
        "\n",
        "gdown.download(f\"https://drive.google.com/uc?id={file_id}\", output, quiet=False)\n"
      ]
    },
    {
      "cell_type": "markdown",
      "metadata": {
        "id": "M_hMJ27uKLVg"
      },
      "source": [
        "Unzipping the images and placing them into the YOLO dataset folder structure"
      ]
    },
    {
      "cell_type": "code",
      "execution_count": null,
      "metadata": {
        "colab": {
          "base_uri": "https://localhost:8080/"
        },
        "id": "qGHJyPX34-H7",
        "outputId": "0e29a764-fe97-4b67-e878-387770615894"
      },
      "outputs": [
        {
          "output_type": "stream",
          "name": "stdout",
          "text": [
            "total 20K\n",
            "drwxr-xr-x 2 root root 20K Jun 26 03:36 images\n"
          ]
        }
      ],
      "source": [
        "# Cria a subpasta desejada e descompacta\n",
        "import os\n",
        "import zipfile\n",
        "\n",
        "destino = \"yolo-dataset/images/train\"\n",
        "os.makedirs(destino, exist_ok=True)\n",
        "\n",
        "with zipfile.ZipFile(\"imagens.zip\", 'r') as zip_ref:\n",
        "    zip_ref.extractall(destino)\n",
        "\n",
        "# Mostra os primeiros arquivos extraídos\n",
        "!ls -lh \"yolo-dataset/images/train\" | head\n"
      ]
    },
    {
      "cell_type": "markdown",
      "metadata": {
        "id": "Jb6Hq9xoKNSh"
      },
      "source": [
        "The images ended up in the wrong structure, so moving them to the correct structure"
      ]
    },
    {
      "cell_type": "code",
      "execution_count": null,
      "metadata": {
        "colab": {
          "base_uri": "https://localhost:8080/"
        },
        "id": "tgXM-DhvJiHP",
        "outputId": "efdb2aeb-b7d1-44ea-9db9-e9de8640307c"
      },
      "outputs": [
        {
          "output_type": "stream",
          "name": "stdout",
          "text": [
            "Arquivos movidos e pasta 'images' removida com sucesso.\n"
          ]
        }
      ],
      "source": [
        "import os\n",
        "import shutil\n",
        "\n",
        "# Caminhos\n",
        "pasta_errada = \"yolo-dataset/images/train/images\"\n",
        "pasta_correta = \"yolo-dataset/images/train\"\n",
        "\n",
        "# Verifica se a pasta errada existe\n",
        "if os.path.exists(pasta_errada):\n",
        "    # Move todos os arquivos da pasta_errada para pasta_correta\n",
        "    for nome_arquivo in os.listdir(pasta_errada):\n",
        "        origem = os.path.join(pasta_errada, nome_arquivo)\n",
        "        destino = os.path.join(pasta_correta, nome_arquivo)\n",
        "        shutil.move(origem, destino)\n",
        "\n",
        "    # Remove a pasta_errada após mover os arquivos\n",
        "    shutil.rmtree(pasta_errada)\n",
        "    print(\"Arquivos movidos e pasta 'images' removida com sucesso.\")\n",
        "else:\n",
        "    print(\"Pasta 'yolo-dataset/images/train/images' não encontrada.\")"
      ]
    },
    {
      "cell_type": "markdown",
      "metadata": {
        "id": "4utjWuUEKSBJ"
      },
      "source": [
        "Doing the same for part 2 of the training images"
      ]
    },
    {
      "cell_type": "code",
      "execution_count": null,
      "metadata": {
        "colab": {
          "base_uri": "https://localhost:8080/"
        },
        "id": "P7cIzdEvJvKP",
        "outputId": "def99420-136d-4471-da5a-94730193000a"
      },
      "outputs": [
        {
          "output_type": "stream",
          "name": "stderr",
          "text": [
            "Downloading...\n",
            "From (original): https://drive.google.com/uc?id=1JBWCHdyZOd9ULX0ng5C9haAt3FMPXa3v\n",
            "From (redirected): https://drive.google.com/uc?id=1JBWCHdyZOd9ULX0ng5C9haAt3FMPXa3v&confirm=t&uuid=0a3f7b5a-eac9-43ce-b23d-c0fb5587b8ba\n",
            "To: /content/imagens2.zip\n",
            "100%|██████████| 4.76G/4.76G [01:03<00:00, 75.3MB/s]\n"
          ]
        },
        {
          "output_type": "stream",
          "name": "stdout",
          "text": [
            "total 6.8G\n",
            "-rw-r--r-- 1 root root   23M Jun 26 03:35 P0000.png\n",
            "-rw-r--r-- 1 root root   12M Jun 26 03:35 P0001.png\n",
            "-rw-r--r-- 1 root root  7.8M Jun 26 03:35 P0002.png\n",
            "-rw-r--r-- 1 root root  1.4M Jun 26 03:35 P0005.png\n",
            "-rw-r--r-- 1 root root  2.1M Jun 26 03:35 P0008.png\n",
            "-rw-r--r-- 1 root root  6.0M Jun 26 03:35 P0010.png\n",
            "-rw-r--r-- 1 root root  3.6M Jun 26 03:35 P0011.png\n",
            "-rw-r--r-- 1 root root  9.2M Jun 26 03:35 P0012.png\n",
            "-rw-r--r-- 1 root root  3.9M Jun 26 03:35 P0013.png\n"
          ]
        }
      ],
      "source": [
        "# ID do arquivo no Google Drive\n",
        "file_id = \"1JBWCHdyZOd9ULX0ng5C9haAt3FMPXa3v\"\n",
        "zip_path = \"imagens2.zip\"\n",
        "\n",
        "# Baixa o .zip\n",
        "gdown.download(f\"https://drive.google.com/uc?id={file_id}\", zip_path, quiet=False)\n",
        "\n",
        "# Caminhos de destino\n",
        "destino_final = \"yolo-dataset/images/train\"\n",
        "tmp_extract = \"temp_extracao\"\n",
        "\n",
        "# Cria as pastas\n",
        "os.makedirs(tmp_extract, exist_ok=True)\n",
        "os.makedirs(destino_final, exist_ok=True)\n",
        "\n",
        "# Descompacta na pasta temporária\n",
        "with zipfile.ZipFile(zip_path, 'r') as zip_ref:\n",
        "    zip_ref.extractall(tmp_extract)\n",
        "\n",
        "# Move arquivos da subpasta \"images\" para \"train\"\n",
        "src_images_dir = os.path.join(tmp_extract, \"images\")\n",
        "if os.path.exists(src_images_dir):\n",
        "    for nome_arquivo in os.listdir(src_images_dir):\n",
        "        origem = os.path.join(src_images_dir, nome_arquivo)\n",
        "        destino = os.path.join(destino_final, nome_arquivo)\n",
        "        shutil.move(origem, destino)\n",
        "else:\n",
        "    print(f\"A pasta '{src_images_dir}' não foi encontrada.\")\n",
        "\n",
        "# Remove a pasta temporária\n",
        "shutil.rmtree(tmp_extract)\n",
        "\n",
        "# Verifica resultado\n",
        "!ls -lh \"yolo-dataset/images/train\" | head\n"
      ]
    },
    {
      "cell_type": "markdown",
      "metadata": {
        "id": "sih5rU-KLKJh"
      },
      "source": [
        "Now the third and final part of the training images zip"
      ]
    },
    {
      "cell_type": "code",
      "execution_count": null,
      "metadata": {
        "colab": {
          "base_uri": "https://localhost:8080/"
        },
        "id": "lA44ctp-LPjd",
        "outputId": "a568307a-c0ff-47d4-93ea-452d4c4a8bb1"
      },
      "outputs": [
        {
          "output_type": "stream",
          "name": "stderr",
          "text": [
            "Downloading...\n",
            "From (original): https://drive.google.com/uc?id=1pEmwJtugIWhiwgBqOtplNUtTG2T454zn\n",
            "From (redirected): https://drive.google.com/uc?id=1pEmwJtugIWhiwgBqOtplNUtTG2T454zn&confirm=t&uuid=94921789-d3f7-4a2a-a790-439149850446\n",
            "To: /content/imagens3.zip\n",
            "100%|██████████| 3.32G/3.32G [00:47<00:00, 70.6MB/s]\n"
          ]
        },
        {
          "output_type": "stream",
          "name": "stdout",
          "text": [
            "total 10G\n",
            "-rw-r--r-- 1 root root   23M Jun 26 03:35 P0000.png\n",
            "-rw-r--r-- 1 root root   12M Jun 26 03:35 P0001.png\n",
            "-rw-r--r-- 1 root root  7.8M Jun 26 03:35 P0002.png\n",
            "-rw-r--r-- 1 root root  1.4M Jun 26 03:35 P0005.png\n",
            "-rw-r--r-- 1 root root  2.1M Jun 26 03:35 P0008.png\n",
            "-rw-r--r-- 1 root root  6.0M Jun 26 03:35 P0010.png\n",
            "-rw-r--r-- 1 root root  3.6M Jun 26 03:35 P0011.png\n",
            "-rw-r--r-- 1 root root  9.2M Jun 26 03:35 P0012.png\n",
            "-rw-r--r-- 1 root root  3.9M Jun 26 03:35 P0013.png\n"
          ]
        }
      ],
      "source": [
        "# ID do terceiro arquivo\n",
        "file_id = \"1pEmwJtugIWhiwgBqOtplNUtTG2T454zn\"\n",
        "zip_path = \"imagens3.zip\"\n",
        "\n",
        "# Baixa o arquivo .zip do Google Drive\n",
        "gdown.download(f\"https://drive.google.com/uc?id={file_id}\", zip_path, quiet=False)\n",
        "\n",
        "# Diretórios\n",
        "tmp_extract = \"temp_extracao\"\n",
        "destino_final = \"yolo-dataset/images/train\"\n",
        "\n",
        "# Cria diretórios se não existirem\n",
        "os.makedirs(tmp_extract, exist_ok=True)\n",
        "os.makedirs(destino_final, exist_ok=True)\n",
        "\n",
        "# Extrai o conteúdo na pasta temporária\n",
        "with zipfile.ZipFile(zip_path, 'r') as zip_ref:\n",
        "    zip_ref.extractall(tmp_extract)\n",
        "\n",
        "# Move arquivos de temp_extracao/images para train/\n",
        "src_images_dir = os.path.join(tmp_extract, \"images\")\n",
        "if os.path.exists(src_images_dir):\n",
        "    for nome_arquivo in os.listdir(src_images_dir):\n",
        "        origem = os.path.join(src_images_dir, nome_arquivo)\n",
        "        destino = os.path.join(destino_final, nome_arquivo)\n",
        "        shutil.move(origem, destino)\n",
        "else:\n",
        "    print(f\"Pasta '{src_images_dir}' não encontrada.\")\n",
        "\n",
        "# Limpa a pasta temporária\n",
        "shutil.rmtree(tmp_extract)\n",
        "\n",
        "# Verifica os primeiros arquivos movidos\n",
        "!ls -lh \"yolo-dataset/images/train\" | head\n"
      ]
    },
    {
      "cell_type": "markdown",
      "metadata": {
        "id": "tA0wwAVpMP_F"
      },
      "source": [
        "Checking the images"
      ]
    },
    {
      "cell_type": "code",
      "execution_count": null,
      "metadata": {
        "colab": {
          "base_uri": "https://localhost:8080/"
        },
        "id": "Pu6a6Z3TLy-X",
        "outputId": "15bb5091-e255-48bb-d0a3-3e8554497262"
      },
      "outputs": [
        {
          "output_type": "stream",
          "name": "stdout",
          "text": [
            "Total de imagens em 'yolo-dataset/images/train': 1411\n"
          ]
        }
      ],
      "source": [
        "# Caminho da pasta com as imagens\n",
        "caminho = \"yolo-dataset/images/train\"\n",
        "\n",
        "# Extensões consideradas como imagem\n",
        "extensoes_imagem = ('.jpg', '.jpeg', '.png', '.bmp', '.tiff', '.webp')\n",
        "\n",
        "# Conta arquivos com as extensões de imagem\n",
        "quantidade = sum(\n",
        "    1 for nome in os.listdir(caminho)\n",
        "    if nome.lower().endswith(extensoes_imagem)\n",
        ")\n",
        "\n",
        "print(f\"Total de imagens em '{caminho}': {quantidade}\")"
      ]
    },
    {
      "cell_type": "markdown",
      "source": [
        "Analyzing the size of the images in the database"
      ],
      "metadata": {
        "id": "MQG0hBtCYpxs"
      }
    },
    {
      "cell_type": "code",
      "source": [
        "import os\n",
        "from PIL import Image\n",
        "import numpy as np\n",
        "\n",
        "# Caminho da pasta com as imagens\n",
        "pasta_imagens = \"/content/yolo-dataset/images/train\"\n",
        "\n",
        "# Listas para armazenar larguras e alturas\n",
        "larguras = []\n",
        "alturas = []\n",
        "\n",
        "# Listas auxiliares para médias específicas\n",
        "larguras_menores_igual_1024 = []\n",
        "alturas_menores_igual_1024 = []\n",
        "larguras_maiores_1024 = []\n",
        "alturas_maiores_1024 = []\n",
        "\n",
        "# Contadores exclusivos\n",
        "conta_largura_e_altura_menor_igual_1024 = 0  # largura E altura menores ou iguais a 1024\n",
        "conta_largura_menor_igual_1024 = 0           # largura <= 1024 (altura > 1024)\n",
        "conta_altura_menor_igual_1024 = 0            # altura <= 1024 (largura > 1024)\n",
        "conta_maiores_1024 = 0                       # largura e altura > 1024\n",
        "\n",
        "# Varrer todos os arquivos da pasta\n",
        "for root, dirs, files in os.walk(pasta_imagens):\n",
        "    for file in files:\n",
        "        if file.lower().endswith(('.png', '.jpg', '.jpeg', '.bmp', '.tiff')):\n",
        "            caminho_imagem = os.path.join(root, file)\n",
        "            try:\n",
        "                with Image.open(caminho_imagem) as img:\n",
        "                    largura, altura = img.size\n",
        "                    larguras.append(largura)\n",
        "                    alturas.append(altura)\n",
        "\n",
        "                    # Contadores exclusivos\n",
        "                    if largura <= 1024 and altura <= 1024:\n",
        "                        conta_largura_e_altura_menor_igual_1024 += 1\n",
        "                        larguras_menores_igual_1024.append(largura)\n",
        "                        alturas_menores_igual_1024.append(altura)\n",
        "                    elif largura <= 1024:\n",
        "                        conta_largura_menor_igual_1024 += 1\n",
        "                        larguras_menores_igual_1024.append(largura)\n",
        "                    elif altura <= 1024:\n",
        "                        conta_altura_menor_igual_1024 += 1\n",
        "                        alturas_menores_igual_1024.append(altura)\n",
        "                    else:\n",
        "                        conta_maiores_1024 += 1\n",
        "                        larguras_maiores_1024.append(largura)\n",
        "                        alturas_maiores_1024.append(altura)\n",
        "\n",
        "            except Exception as e:\n",
        "                print(f\"Erro ao abrir {caminho_imagem}: {e}\")\n",
        "\n",
        "# Converter para arrays do numpy para facilitar análise\n",
        "larguras = np.array(larguras)\n",
        "alturas = np.array(alturas)\n",
        "larguras_menores_igual_1024 = np.array(larguras_menores_igual_1024)\n",
        "alturas_menores_igual_1024 = np.array(alturas_menores_igual_1024)\n",
        "larguras_maiores_1024 = np.array(larguras_maiores_1024)\n",
        "alturas_maiores_1024 = np.array(alturas_maiores_1024)\n",
        "\n",
        "# Exibir estatísticas\n",
        "print(f\"Total de imagens analisadas: {len(larguras)}\")\n",
        "print(f\"Largura mínima: {larguras.min()}, máxima: {larguras.max()}, média: {larguras.mean():.2f}\")\n",
        "print(f\"Altura mínima: {alturas.min()}, máxima: {alturas.max()}, média: {alturas.mean():.2f}\")\n",
        "print()\n",
        "print(f\"Total de imagens com largura E altura menores ou iguais a 1024: {conta_largura_e_altura_menor_igual_1024}\")\n",
        "print(f\"Total de imagens com largura menor ou igual a 1024: {conta_largura_menor_igual_1024}\")\n",
        "print(f\"Total de imagens com altura menor ou igual a 1024: {conta_altura_menor_igual_1024}\")\n",
        "print(f\"Total de imagens com largura E altura maiores que 1024: {conta_maiores_1024}\")\n",
        "print()\n",
        "\n",
        "# Médias específicas\n",
        "if len(larguras_menores_igual_1024) > 0:\n",
        "    print(f\"Média das larguras das imagens com largura <= 1024: {larguras_menores_igual_1024.mean():.2f}\")\n",
        "else:\n",
        "    print(\"Nenhuma imagem com largura <= 1024\")\n",
        "\n",
        "if len(alturas_menores_igual_1024) > 0:\n",
        "    print(f\"Média das alturas das imagens com altura <= 1024: {alturas_menores_igual_1024.mean():.2f}\")\n",
        "else:\n",
        "    print(\"Nenhuma imagem com altura <= 1024\")\n",
        "\n",
        "if len(larguras_maiores_1024) > 0:\n",
        "    print(f\"Média das larguras das imagens com largura > 1024 e altura > 1024: {larguras_maiores_1024.mean():.2f}\")\n",
        "    print(f\"Média das alturas das imagens com largura > 1024 e altura > 1024: {alturas_maiores_1024.mean():.2f}\")\n",
        "else:\n",
        "    print(\"Nenhuma imagem com largura e altura maiores que 1024\")\n"
      ],
      "metadata": {
        "colab": {
          "base_uri": "https://localhost:8080/"
        },
        "id": "_Y5VPMbYUjdo",
        "outputId": "8b1cacfa-8a33-4e5b-d3d8-6f7a310431b3"
      },
      "execution_count": null,
      "outputs": [
        {
          "output_type": "stream",
          "name": "stdout",
          "text": [
            "Total de imagens analisadas: 1411\n",
            "Largura mínima: 387, máxima: 12029, média: 2304.67\n",
            "Altura mínima: 278, máxima: 8115, média: 2181.29\n",
            "\n",
            "Total de imagens com largura E altura menores ou iguais a 1024: 201\n",
            "Total de imagens com largura menor ou igual a 1024: 116\n",
            "Total de imagens com altura menor ou igual a 1024: 104\n",
            "Total de imagens com largura E altura maiores que 1024: 990\n",
            "\n",
            "Média das larguras das imagens com largura <= 1024: 766.98\n",
            "Média das alturas das imagens com altura <= 1024: 783.57\n",
            "Média das larguras das imagens com largura > 1024 e altura > 1024: 2848.18\n",
            "Média das alturas das imagens com largura > 1024 e altura > 1024: 2710.67\n"
          ]
        }
      ]
    },
    {
      "cell_type": "markdown",
      "metadata": {
        "id": "_EEG5T_-MStr"
      },
      "source": [
        "Now setting up the validation images"
      ]
    },
    {
      "cell_type": "code",
      "execution_count": null,
      "metadata": {
        "colab": {
          "base_uri": "https://localhost:8080/"
        },
        "id": "ucYjtF9cMUyd",
        "outputId": "59feb9f3-e406-4a28-c4b5-b94eefb9a6d7"
      },
      "outputs": [
        {
          "output_type": "stream",
          "name": "stderr",
          "text": [
            "Downloading...\n",
            "From (original): https://drive.google.com/uc?id=1uCCCFhFQOJLfjBpcL5MC0DHJ9lgOaXWP\n",
            "From (redirected): https://drive.google.com/uc?id=1uCCCFhFQOJLfjBpcL5MC0DHJ9lgOaXWP&confirm=t&uuid=f50b5ab9-f378-4a3f-ac1a-f07c2262fd30\n",
            "To: /content/imagens_test.zip\n",
            "100%|██████████| 3.34G/3.34G [00:48<00:00, 69.5MB/s]\n"
          ]
        },
        {
          "output_type": "stream",
          "name": "stdout",
          "text": [
            "ls: cannot access 'yolo-dataset/images/test': No such file or directory\n"
          ]
        }
      ],
      "source": [
        "# ID do arquivo .zip no Google Drive\n",
        "file_id = \"1uCCCFhFQOJLfjBpcL5MC0DHJ9lgOaXWP\"\n",
        "zip_path = \"imagens_test.zip\"\n",
        "\n",
        "# Baixar o arquivo .zip\n",
        "gdown.download(f\"https://drive.google.com/uc?id={file_id}\", zip_path, quiet=False)\n",
        "\n",
        "# Caminhos\n",
        "tmp_extract = \"temp_extracao\"\n",
        "destino_final = \"yolo-dataset/images/val\"\n",
        "\n",
        "# Cria pastas se necessário\n",
        "os.makedirs(tmp_extract, exist_ok=True)\n",
        "os.makedirs(destino_final, exist_ok=True)\n",
        "\n",
        "# Descompacta na pasta temporária\n",
        "with zipfile.ZipFile(zip_path, 'r') as zip_ref:\n",
        "    zip_ref.extractall(tmp_extract)\n",
        "\n",
        "# Move arquivos de temp_extracao/images para test/\n",
        "src_images_dir = os.path.join(tmp_extract, \"images\")\n",
        "if os.path.exists(src_images_dir):\n",
        "    for nome_arquivo in os.listdir(src_images_dir):\n",
        "        origem = os.path.join(src_images_dir, nome_arquivo)\n",
        "        destino = os.path.join(destino_final, nome_arquivo)\n",
        "        shutil.move(origem, destino)\n",
        "else:\n",
        "    print(f\"Pasta '{src_images_dir}' não encontrada.\")\n",
        "\n",
        "# Remove pasta temporária\n",
        "shutil.rmtree(tmp_extract)\n",
        "\n",
        "# Verifica os primeiros arquivos\n",
        "!ls -lh \"yolo-dataset/images/test\" | head"
      ]
    },
    {
      "cell_type": "markdown",
      "metadata": {
        "id": "iJtNlQ_0MvcB"
      },
      "source": [
        "Checking the validation images"
      ]
    },
    {
      "cell_type": "code",
      "execution_count": null,
      "metadata": {
        "colab": {
          "base_uri": "https://localhost:8080/"
        },
        "id": "syJoEkc2M1os",
        "outputId": "d24fceaf-87a2-43d7-c561-24c1e5670b12"
      },
      "outputs": [
        {
          "output_type": "stream",
          "name": "stdout",
          "text": [
            "Total de imagens em 'yolo-dataset/images/val': 458\n"
          ]
        }
      ],
      "source": [
        "# Caminho da pasta com as imagens\n",
        "caminho = \"yolo-dataset/images/val\"\n",
        "\n",
        "# Extensões consideradas como imagem\n",
        "extensoes_imagem = ('.jpg', '.jpeg', '.png', '.bmp', '.tiff', '.webp')\n",
        "\n",
        "# Conta arquivos com as extensões de imagem\n",
        "quantidade = sum(\n",
        "    1 for nome in os.listdir(caminho)\n",
        "    if nome.lower().endswith(extensoes_imagem)\n",
        ")\n",
        "\n",
        "print(f\"Total de imagens em '{caminho}': {quantidade}\")"
      ]
    },
    {
      "cell_type": "markdown",
      "source": [
        "Analyzing the size of the images in the database"
      ],
      "metadata": {
        "id": "p3dQw-9gZLtG"
      }
    },
    {
      "cell_type": "code",
      "source": [
        "import os\n",
        "from PIL import Image\n",
        "import numpy as np\n",
        "\n",
        "# Caminho da pasta com as imagens\n",
        "pasta_imagens = \"/content/yolo-dataset/images/val\"\n",
        "\n",
        "# Listas para armazenar larguras e alturas\n",
        "larguras = []\n",
        "alturas = []\n",
        "\n",
        "# Listas auxiliares para médias específicas\n",
        "larguras_menores_igual_1024 = []\n",
        "alturas_menores_igual_1024 = []\n",
        "larguras_maiores_1024 = []\n",
        "alturas_maiores_1024 = []\n",
        "\n",
        "# Contadores exclusivos\n",
        "conta_largura_e_altura_menor_igual_1024 = 0  # largura E altura menores ou iguais a 1024\n",
        "conta_largura_menor_igual_1024 = 0           # largura <= 1024 (altura > 1024)\n",
        "conta_altura_menor_igual_1024 = 0            # altura <= 1024 (largura > 1024)\n",
        "conta_maiores_1024 = 0                       # largura e altura > 1024\n",
        "\n",
        "# Varrer todos os arquivos da pasta\n",
        "for root, dirs, files in os.walk(pasta_imagens):\n",
        "    for file in files:\n",
        "        if file.lower().endswith(('.png', '.jpg', '.jpeg', '.bmp', '.tiff')):\n",
        "            caminho_imagem = os.path.join(root, file)\n",
        "            try:\n",
        "                with Image.open(caminho_imagem) as img:\n",
        "                    largura, altura = img.size\n",
        "                    larguras.append(largura)\n",
        "                    alturas.append(altura)\n",
        "\n",
        "                    # Contadores exclusivos\n",
        "                    if largura <= 1024 and altura <= 1024:\n",
        "                        conta_largura_e_altura_menor_igual_1024 += 1\n",
        "                        larguras_menores_igual_1024.append(largura)\n",
        "                        alturas_menores_igual_1024.append(altura)\n",
        "                    elif largura <= 1024:\n",
        "                        conta_largura_menor_igual_1024 += 1\n",
        "                        larguras_menores_igual_1024.append(largura)\n",
        "                    elif altura <= 1024:\n",
        "                        conta_altura_menor_igual_1024 += 1\n",
        "                        alturas_menores_igual_1024.append(altura)\n",
        "                    else:\n",
        "                        conta_maiores_1024 += 1\n",
        "                        larguras_maiores_1024.append(largura)\n",
        "                        alturas_maiores_1024.append(altura)\n",
        "\n",
        "            except Exception as e:\n",
        "                print(f\"Erro ao abrir {caminho_imagem}: {e}\")\n",
        "\n",
        "# Converter para arrays do numpy para facilitar análise\n",
        "larguras = np.array(larguras)\n",
        "alturas = np.array(alturas)\n",
        "larguras_menores_igual_1024 = np.array(larguras_menores_igual_1024)\n",
        "alturas_menores_igual_1024 = np.array(alturas_menores_igual_1024)\n",
        "larguras_maiores_1024 = np.array(larguras_maiores_1024)\n",
        "alturas_maiores_1024 = np.array(alturas_maiores_1024)\n",
        "\n",
        "# Exibir estatísticas\n",
        "print(f\"Total de imagens analisadas: {len(larguras)}\")\n",
        "print(f\"Largura mínima: {larguras.min()}, máxima: {larguras.max()}, média: {larguras.mean():.2f}\")\n",
        "print(f\"Altura mínima: {alturas.min()}, máxima: {alturas.max()}, média: {alturas.mean():.2f}\")\n",
        "print()\n",
        "print(f\"Total de imagens com largura E altura menores ou iguais a 1024: {conta_largura_e_altura_menor_igual_1024}\")\n",
        "print(f\"Total de imagens com largura menor ou igual a 1024: {conta_largura_menor_igual_1024}\")\n",
        "print(f\"Total de imagens com altura menor ou igual a 1024: {conta_altura_menor_igual_1024}\")\n",
        "print(f\"Total de imagens com largura E altura maiores que 1024: {conta_maiores_1024}\")\n",
        "print()\n",
        "\n",
        "# Médias específicas\n",
        "if len(larguras_menores_igual_1024) > 0:\n",
        "    print(f\"Média das larguras das imagens com largura <= 1024: {larguras_menores_igual_1024.mean():.2f}\")\n",
        "else:\n",
        "    print(\"Nenhuma imagem com largura <= 1024\")\n",
        "\n",
        "if len(alturas_menores_igual_1024) > 0:\n",
        "    print(f\"Média das alturas das imagens com altura <= 1024: {alturas_menores_igual_1024.mean():.2f}\")\n",
        "else:\n",
        "    print(\"Nenhuma imagem com altura <= 1024\")\n",
        "\n",
        "if len(larguras_maiores_1024) > 0:\n",
        "    print(f\"Média das larguras das imagens com largura > 1024 e altura > 1024: {larguras_maiores_1024.mean():.2f}\")\n",
        "    print(f\"Média das alturas das imagens com largura > 1024 e altura > 1024: {alturas_maiores_1024.mean():.2f}\")\n",
        "else:\n",
        "    print(\"Nenhuma imagem com largura e altura maiores que 1024\")\n"
      ],
      "metadata": {
        "colab": {
          "base_uri": "https://localhost:8080/"
        },
        "id": "634Oq24ZXEAe",
        "outputId": "b026ab35-84f7-4ccb-aee1-349fca52a8e7"
      },
      "execution_count": null,
      "outputs": [
        {
          "output_type": "stream",
          "name": "stdout",
          "text": [
            "Total de imagens analisadas: 458\n",
            "Largura mínima: 353, máxima: 13383, média: 2398.01\n",
            "Altura mínima: 511, máxima: 6759, média: 2210.98\n",
            "\n",
            "Total de imagens com largura E altura menores ou iguais a 1024: 58\n",
            "Total de imagens com largura menor ou igual a 1024: 48\n",
            "Total de imagens com altura menor ou igual a 1024: 34\n",
            "Total de imagens com largura E altura maiores que 1024: 318\n",
            "\n",
            "Média das larguras das imagens com largura <= 1024: 765.44\n",
            "Média das alturas das imagens com altura <= 1024: 799.49\n",
            "Média das larguras das imagens com largura > 1024 e altura > 1024: 3045.28\n",
            "Média das alturas das imagens com largura > 1024 e altura > 1024: 2731.42\n"
          ]
        }
      ]
    }
  ],
  "metadata": {
    "accelerator": "GPU",
    "colab": {
      "gpuType": "T4",
      "machine_shape": "hm",
      "provenance": []
    },
    "kernelspec": {
      "display_name": "Python 3",
      "name": "python3"
    },
    "language_info": {
      "name": "python"
    }
  },
  "nbformat": 4,
  "nbformat_minor": 0
}