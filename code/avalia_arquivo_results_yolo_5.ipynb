{
  "nbformat": 4,
  "nbformat_minor": 0,
  "metadata": {
    "colab": {
      "provenance": []
    },
    "kernelspec": {
      "name": "python3",
      "display_name": "Python 3"
    },
    "language_info": {
      "name": "python"
    }
  },
  "cells": [
    {
      "cell_type": "code",
      "execution_count": null,
      "metadata": {
        "id": "kE0KEnaYtPb7"
      },
      "outputs": [],
      "source": [
        "import pandas as pd\n",
        "import os\n",
        "\n",
        "csv_path  = r'C:\\Users\\jonas\\OneDrive\\Área de Trabalho\\backup_yolov5m-50 epocas - imagens 640\\results.csv'\n",
        "ckpt_path = r'C:\\Users\\jonas\\OneDrive\\Área de Trabalho\\backup_yolov5m-50 epocas - imagens 640\\weights\\best.pt'\n",
        "\n",
        "df = pd.read_csv(csv_path)\n",
        "df.columns = df.columns.str.strip()\n",
        "\n",
        "# Colunas de loss (train e val)\n",
        "cols_train = [c for c in df.columns if c.startswith('train/') and c.endswith('_loss')]\n",
        "cols_val   = [c for c in df.columns if c.startswith('val/')   and c.endswith('_loss')]\n",
        "\n",
        "df['train_loss'] = df[cols_train].sum(axis=1)\n",
        "df['val_loss']   = df[cols_val].sum(axis=1)\n",
        "\n",
        "loss_train_final = df['train_loss'].iloc[-1]\n",
        "loss_val_final   = df['val_loss'].iloc[-1]\n",
        "ckpt_size_mb     = os.path.getsize(ckpt_path) / 1e6\n",
        "\n",
        "print(f'Tamanho do .pt..........: {ckpt_size_mb:.1f} MB')\n",
        "print(f'Loss final   (train)....: {loss_train_final:.3f}')\n",
        "print(f'Loss final   (val)......: {loss_val_final:.3f}')\n"
      ]
    }
  ]
}